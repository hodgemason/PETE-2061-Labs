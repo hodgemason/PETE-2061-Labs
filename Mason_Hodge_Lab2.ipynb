{
 "cells": [
  {
   "cell_type": "markdown",
   "metadata": {
    "colab_type": "text",
    "id": "u1YDPNtbdHDj"
   },
   "source": [
    "\n",
    " #  Python Data Types\n",
    "\n",
    "## PETE 2061 Lab 2 Workbook \n",
    "\n",
    "## THIS IS DUE BY END OF LAB TODAY\n",
    "\n",
    "<a id='top'></a>"
   ]
  },
  {
   "cell_type": "markdown",
   "metadata": {
    "colab_type": "text",
    "id": "krWd44XodHDp"
   },
   "source": [
    "##### <a id='variables'></a>\n",
    "## Decline Curve Analysis\n",
    "Wells A, B, and C flow with an initial flow rate ($q_i$) of 5,000 bopd (barrels of oil per day), and have a continuous initial decline rate ($D_i$) of 20% per year. Well A declines exponentially, while well B declines hyperbolically, with a b-exponent of 0.5, and well C declines harmonically (this means that b = 1). <br><br>\n",
    "$\\color{red}{\\text{If wrong parameters are used: -10}}$"
   ]
  },
  {
   "cell_type": "markdown",
   "metadata": {},
   "source": [
    "Step 1. Import the math library (so that the exponential function is available). <br> $\\color{red}{\\text{If wrong: -1}}$"
   ]
  },
  {
   "cell_type": "code",
   "execution_count": 2,
   "metadata": {},
   "outputs": [],
   "source": [
    "import math"
   ]
  },
  {
   "cell_type": "markdown",
   "metadata": {},
   "source": [
    "Step 2. Create variables named q_i, D_i and b, and assign them to the given values of initial flow rate, initial decline rate, and hyperbolic b-exponent, respectively. <br>$\\color{red}{\\text{If wrong: -10}}$"
   ]
  },
  {
   "cell_type": "code",
   "execution_count": 3,
   "metadata": {},
   "outputs": [],
   "source": [
    "q_i=4000\n",
    "D_i=0.15\n",
    "b=0.5"
   ]
  },
  {
   "cell_type": "markdown",
   "metadata": {},
   "source": [
    "Step 3. Using the list() and range() functions, create a list named t, and use it to store time in years; starting from 0 to 3 years, and in increments of 1 year. The first item in list t will be 0, and the last item will be 3.<br>$\\color{red}{\\text{If wrong: -3}}$"
   ]
  },
  {
   "cell_type": "code",
   "execution_count": 4,
   "metadata": {},
   "outputs": [
    {
     "name": "stdout",
     "output_type": "stream",
     "text": [
      "[0, 1, 2, 3]\n"
     ]
    }
   ],
   "source": [
    "Range = range(0,4,1)\n",
    "t = list(Range)\n",
    "print(t)"
   ]
  },
  {
   "cell_type": "markdown",
   "metadata": {},
   "source": [
    "Step 4. Create a list named q_A, and fill it with four zeros. <br>$\\color{red}{\\text{If wrong: -1}}$"
   ]
  },
  {
   "cell_type": "code",
   "execution_count": 5,
   "metadata": {},
   "outputs": [],
   "source": [
    "q_A=[0,0,0,0]"
   ]
  },
  {
   "cell_type": "markdown",
   "metadata": {},
   "source": [
    "Step 5. Also create lists named q_B and q_C and let them store four zeros each. Note that q_A, q_B and q_C correspond to the flow rates of wells A, B and C, respectively. <br> $\\color{red}{\\text{If wrong: -2}}$"
   ]
  },
  {
   "cell_type": "code",
   "execution_count": 6,
   "metadata": {},
   "outputs": [],
   "source": [
    "q_B=[0,0,0,0]\n",
    "q_C=[0,0,0,0]"
   ]
  },
  {
   "cell_type": "markdown",
   "metadata": {},
   "source": [
    "Step 6. Using the appropriate equation for well A, \n",
    "    (a) compute the oil rate at a time of 0 years, and store it in the first index of the list, q_A. Double-check that your result for this is equal to the initial flow rate.\n",
    "    (b) compute the oil rate after 1 year and store it in the second index of the list, q_A.\n",
    "    (c) compute the oil rate after 2 years and store it in the third index of the list, q_A.\n",
    "    (d) compute the oil rate after 3 years and store it in the fourth index of the list, q_A. <br> $\\color{red}{\\text{If wrong: -5}}$"
   ]
  },
  {
   "cell_type": "code",
   "execution_count": 7,
   "metadata": {},
   "outputs": [],
   "source": [
    "q_A[0] = q_i*math.exp(-1*D_i*t[0])\n",
    "q_A[1] = q_i*math.exp(-1*D_i*t[1])\n",
    "q_A[2] = q_i*math.exp(-1*D_i*t[2])\n",
    "q_A[3] = q_i*math.exp(-1*D_i*t[3])"
   ]
  },
  {
   "cell_type": "markdown",
   "metadata": {},
   "source": [
    "Step 7. Print out list q_A. <br> $\\color{red}{\\text{If wrong: -1}}$"
   ]
  },
  {
   "cell_type": "code",
   "execution_count": 8,
   "metadata": {},
   "outputs": [
    {
     "name": "stdout",
     "output_type": "stream",
     "text": [
      "[4000.0, 3442.8319057002313, 2963.2728827268716, 2550.5126064870933]\n"
     ]
    }
   ],
   "source": [
    "print(q_A)"
   ]
  },
  {
   "cell_type": "markdown",
   "metadata": {},
   "source": [
    "Step 8. Using the appropriate equation for wells B and C, compute and store the corresponding four rates in q_B and q_C. This is similar to the steps in 6 (a) through (d), but with the hyperbolic and harmonic decline curve equations, respectively. <br> $\\color{red}{\\text{If wrong: -5}}$"
   ]
  },
  {
   "cell_type": "code",
   "execution_count": 9,
   "metadata": {},
   "outputs": [],
   "source": [
    "q_B[0] = q_i/((1+b*D_i*t[0])**(1/b))\n",
    "q_B[1] = q_i/((1+b*D_i*t[1])**(1/b))\n",
    "q_B[2] = q_i/((1+b*D_i*t[2])**(1/b))\n",
    "q_B[3] = q_i/((1+b*D_i*t[3])**(1/b))"
   ]
  },
  {
   "cell_type": "markdown",
   "metadata": {},
   "source": [
    "Step 9. Print out lists q_B and q_C <br> $\\color{red}{\\text{If wrong: -1}}$"
   ]
  },
  {
   "cell_type": "code",
   "execution_count": 10,
   "metadata": {},
   "outputs": [
    {
     "name": "stdout",
     "output_type": "stream",
     "text": [
      "[4000.0, 3461.3304488912927, 3024.574669187146, 2665.556018325697] [0, 0, 0, 0]\n"
     ]
    }
   ],
   "source": [
    "print(q_B, q_C)"
   ]
  },
  {
   "cell_type": "markdown",
   "metadata": {},
   "source": [
    "Step 10. Using all that you have learned so far, compute the corresponding cumulative production (Q_A, Q_B and Q_C) using the analytical expressions in your lecture notes. Print out the four items in each of these three lists. <br> $\\color{red}{\\text{If wrong: -10}}$"
   ]
  },
  {
   "cell_type": "code",
   "execution_count": 11,
   "metadata": {},
   "outputs": [
    {
     "name": "stdout",
     "output_type": "stream",
     "text": [
      "[0.0, 3714.453961998458, 6911.51411515419, 9663.249290086045] [0.0, 3720.9302325581402, 6956.52173913043, 9795.918367346943] [0.0, 3726.98513000423, 6996.380385799762, 9908.361504866214]\n"
     ]
    }
   ],
   "source": [
    "Q_A, Q_B, Q_C = [0,0,0,0], [0,0,0,0], [0,0,0,0]\n",
    "Q_A[0] = (q_i-q_A[0])/D_i\n",
    "Q_A[1] = (q_i-q_A[1])/D_i\n",
    "Q_A[2] = (q_i-q_A[2])/D_i\n",
    "Q_A[3] = (q_i-q_A[3])/D_i\n",
    "Q_B[0] = (q_i/(D_i*(1-b)))*(1-(1/((1+b*D_i*t[0])**((1-b)/b))))\n",
    "Q_B[1] = (q_i/(D_i*(1-b)))*(1-(1/((1+b*D_i*t[1])**((1-b)/b))))\n",
    "Q_B[2] = (q_i/(D_i*(1-b)))*(1-(1/((1+b*D_i*t[2])**((1-b)/b))))\n",
    "Q_B[3] = (q_i/(D_i*(1-b)))*(1-(1/((1+b*D_i*t[3])**((1-b)/b))))\n",
    "Q_C[0] = (q_i/D_i)*math.log(1+D_i*t[0])\n",
    "Q_C[1] = (q_i/D_i)*math.log(1+D_i*t[1])\n",
    "Q_C[2] = (q_i/D_i)*math.log(1+D_i*t[2])\n",
    "Q_C[3] = (q_i/D_i)*math.log(1+D_i*t[3])\n",
    "print(Q_A, Q_B, Q_C)"
   ]
  },
  {
   "cell_type": "markdown",
   "metadata": {},
   "source": [
    "Step 11. Using the Trapezoidal rule for well A, compute the volume of oil (in barrels) produced between:\n",
    "    (a) time = 0 and time = 1 year\n",
    "    (b) time = 1 and time = 2 years\n",
    "    (c) time = 2 and time = 3 years. <br> $\\color{red}{\\text{If wrong: -5}}$"
   ]
  },
  {
   "cell_type": "code",
   "execution_count": 12,
   "metadata": {},
   "outputs": [
    {
     "name": "stdout",
     "output_type": "stream",
     "text": [
      "3721.415952850116 3203.0523942135515 2756.8927446069824\n"
     ]
    }
   ],
   "source": [
    "bblAyr1 = 0.5*(q_A[0]+q_A[1])*(1-0)\n",
    "bblAyr2 = 0.5*(q_A[1]+q_A[2])*(2-1)\n",
    "bblAyr3 = 0.5*(q_A[2]+q_A[3])*(3-2)\n",
    "print(bblAyr1, bblAyr2, bblAyr3)"
   ]
  },
  {
   "cell_type": "markdown",
   "metadata": {},
   "source": [
    "Step 12. Add up the three results from 11(a), (b) and (c) to obtain the cumulative production for well A after 3 years. <br> $\\color{red}{\\text{If wrong: -1}}$"
   ]
  },
  {
   "cell_type": "code",
   "execution_count": 13,
   "metadata": {},
   "outputs": [
    {
     "name": "stdout",
     "output_type": "stream",
     "text": [
      "9681.36109167065\n"
     ]
    }
   ],
   "source": [
    "bblA_cum = bblAyr1 + bblAyr2 + bblAyr3\n",
    "print(bblA_cum)"
   ]
  },
  {
   "cell_type": "markdown",
   "metadata": {},
   "source": [
    "Step 13. Compare the result from Step 12 (a numerical integration) to the result stored in the last item in list Q_A (an exact integration). Compute the relative error (in %) of the numerical integration. <br> $\\color{red}{\\text{If wrong: -3}}$"
   ]
  },
  {
   "cell_type": "code",
   "execution_count": 15,
   "metadata": {},
   "outputs": [
    {
     "name": "stdout",
     "output_type": "stream",
     "text": [
      "-0.1874297251462384%\n"
     ]
    }
   ],
   "source": [
    "Rel_err=(Q_A[3]-bblA_cum)/Q_A[3]\n",
    "Percent_Rel_err=Rel_err*100\n",
    "print(f\"{Percent_Rel_err}%\")"
   ]
  }
 ],
 "metadata": {
  "colab": {
   "collapsed_sections": [
    "sYQs3O-6dHFb",
    "8sIJ4A57dHFk",
    "_73RPOcBdHFn",
    "h9s2tfPcdHFo",
    "zt4YHVYPdHGR"
   ],
   "include_colab_link": true,
   "name": "Copy of intro-python-colab.ipynb",
   "provenance": [],
   "version": "0.3.2"
  },
  "kernelspec": {
   "display_name": "Python 3",
   "language": "python",
   "name": "python3"
  },
  "language_info": {
   "codemirror_mode": {
    "name": "ipython",
    "version": 3
   },
   "file_extension": ".py",
   "mimetype": "text/x-python",
   "name": "python",
   "nbconvert_exporter": "python",
   "pygments_lexer": "ipython3",
   "version": "3.8.8"
  }
 },
 "nbformat": 4,
 "nbformat_minor": 1
}
