{
 "cells": [
  {
   "cell_type": "markdown",
   "metadata": {
    "colab_type": "text",
    "id": "u1YDPNtbdHDj"
   },
   "source": [
    "# PETE 2061 Mid-term Exam (Part 2) \n",
    "\n",
    "## THIS IS DUE 35 MINS AFTER IT IS ASSIGNED"
   ]
  },
  {
   "cell_type": "markdown",
   "metadata": {},
   "source": [
    "## Instructions\n",
    "* You will be video-monitored, and any violation of the LSU Code of Student Conduct will be reported to the Office of Student Advocacy and Accountability (SAA).\n",
    "* This is an open book exam. You may use cheat sheets, lecture notes and lab notebooks in soft or hard copies. \n",
    "* You are not allowed to use the internet or your cell phones. \n",
    "* You can download all lecture materials before the exam starts, but not during the exam.\n",
    "* You are not allowed to start with this section of the finals until the first part is completed.\n",
    "* Make sure you save often, and be sure you know where the file you are working on is being saved."
   ]
  },
  {
   "cell_type": "markdown",
   "metadata": {},
   "source": [
    "1. Well-1 is the only well in a gas reservoir, referred to as \"Reservoir A\". The production rate from Well-1 is assumed to decline following either the exponential or the harmonic decline model. The initial gas rate ($q_i$) from this well is 900000 scf, and its initial decline rate ($D_i$) is 0.15% per day (which is equivalent to 0.0015 per day). Write a Python code that: <br>\n",
    "    a. **[10 points]** Reads in either \"Exp\" or \"Harm\" using the input function, and stores the string typed in by the user into a variable named \"model\". <br>\n",
    "    b. **[10 points]** If the model typed in by the user is \"Exp\", use the appropriate expoonential decline equation to compute the cumulative production for the first 3650 days (10 years) of production. <br>\n",
    "    c. **[10 points]** If the model typed in by the user is \"Harm\", use the  appropriate harmonic decline equation to predict the cumulative production for the first 3650 days (10 years) of production. <br>\n",
    "    d. **[10 points]** Plot the cumulative production versus time, based on the decline model selected. <br>\n",
    "    e. **[8 points]** Compute and display the mean, minimum, maximum and standard deviation of the cumulative production obtained."
   ]
  },
  {
   "cell_type": "code",
   "execution_count": 3,
   "metadata": {},
   "outputs": [
    {
     "name": "stdout",
     "output_type": "stream",
     "text": [
      "Enter number of days: 3650\n"
     ]
    }
   ],
   "source": [
    "q_i = 900000 #initial gas rate\n",
    "D_i = 0.0015 #initial decline rate (percentage per day)\n",
    "model = int(input(\"Enter the number of days of production: \"))"
   ]
  },
  {
   "cell_type": "code",
   "execution_count": 27,
   "metadata": {},
   "outputs": [
    {
     "name": "stdout",
     "output_type": "stream",
     "text": [
      "[900000.         898651.01199394 897304.04595304 ...   3788.21436141\n",
      "   3782.53629948   3776.86674826]\n",
      "[0.00000000e+00 8.99325337e+05 1.79730270e+06 ... 5.97474524e+08\n",
      " 5.97478309e+08 5.97482089e+08]\n"
     ]
    },
    {
     "data": {
      "image/png": "[encoded data removed]",
      "text/plain": [
       "<Figure size 432x288 with 1 Axes>"
      ]
     },
     "metadata": {
      "needs_background": "light"
     },
     "output_type": "display_data"
    },
    {
     "name": "stdout",
     "output_type": "stream",
     "text": [
      "490788294\n",
      "0\n",
      "597482088\n",
      "144927677\n"
     ]
    }
   ],
   "source": [
    "import numpy as np\n",
    "timeVec = np.arange(model)\n",
    "q = q_i*np.exp(-D_i*timeVec)\n",
    "print(q)\n",
    "q_p = (q_i-q)/(D_i)\n",
    "print(q_p)\n",
    "\n",
    "import matplotlib.pyplot as plt\n",
    "plt.plot(timeVec,q_p,'r-s')\n",
    "plt.show() #part d\n",
    "import pandas as pd\n",
    "df = pd.DataFrame(Q_p)\n",
    "print(int(df.mean()))\n",
    "print(int(df.min()))\n",
    "print(int(df.max()))\n",
    "print(int(df.std())) #part e"
   ]
  },
  {
   "cell_type": "markdown",
   "metadata": {},
   "source": [
    "2. It is commonly said that one human year is equivalent to 7 dog years. However, this simple conversion fails to recognize that dogs reach adulthood in approximately two years. As a result, some people believe that it is better to count each of the first two human years as 10.5 dog years, and then count each additional human year as 4 dog\n",
    "years. <br>\n",
    "Write a program that implements the conversion from human years to dog years described in the previous paragraph. Ensure that your program works correctly for conversions of less than two human years and for conversions of two or more human years. <br><br> \n",
    "**[3 points]** (a) To test your code, read in any integer between 1 and 10. <br>\n",
    "**[20 points]** (b) Convert any integer entered to dog years, using the age conversion described. <br>\n",
    "**[3 points]** (c) Print out the integer entered and the corresponding dog years. <br><br>\n",
    "NOTE: If you enter 1, that should be equivalent to 10.5 dog years. If you enter 2, you should get 21 dog years. If you enter 3, you should get 25 dog years. etc.<br><br>\n",
    "\n",
    "**[3 points]** (d) Create a dataframe that contains the following list of human years in the first column: 1,3,5,7,9,11,13,15,17,19. <br>\n",
    "**[16 points]** (e) Implement the logic from (b) above in a loop, so that you can loop through each item in the list of human years given, and compute and store the corresponding dog years in another list.<br>\n",
    "**[3 points]** (f) Update the dataframe in (d) above to contain the dog years in the second column."
   ]
  },
  {
   "cell_type": "code",
   "execution_count": null,
   "metadata": {},
   "outputs": [],
   "source": []
  }
 ],
 "metadata": {
  "colab": {
   "collapsed_sections": [
    "sYQs3O-6dHFb",
    "8sIJ4A57dHFk",
    "_73RPOcBdHFn",
    "h9s2tfPcdHFo",
    "zt4YHVYPdHGR"
   ],
   "include_colab_link": true,
   "name": "Copy of intro-python-colab.ipynb",
   "provenance": [],
   "version": "0.3.2"
  },
  "kernelspec": {
   "display_name": "Python 3",
   "language": "python",
   "name": "python3"
  },
  "language_info": {
   "codemirror_mode": {
    "name": "ipython",
    "version": 3
   },
   "file_extension": ".py",
   "mimetype": "text/x-python",
   "name": "python",
   "nbconvert_exporter": "python",
   "pygments_lexer": "ipython3",
   "version": "3.8.8"
  }
 },
 "nbformat": 4,
 "nbformat_minor": 1
}
