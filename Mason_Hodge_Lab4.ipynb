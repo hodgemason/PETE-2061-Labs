{
 "cells": [
  {
   "cell_type": "markdown",
   "metadata": {
    "colab_type": "text",
    "id": "u1YDPNtbdHDj"
   },
   "source": [
    "# Control Structures and Data Frames\n",
    "\n",
    "## PETE 2061 Lab 4 Workbook \n",
    "\n",
    "<a id='top'></a>"
   ]
  },
  {
   "cell_type": "markdown",
   "metadata": {},
   "source": [
    "1. Paste the url (or link) to the pete2061 folder in your github account in the \"marked down\" cell below. <br>\n",
    "**2 points will be deducted if this is not attempted**"
   ]
  },
  {
   "cell_type": "markdown",
   "metadata": {},
   "source": []
  },
  {
   "cell_type": "markdown",
   "metadata": {},
   "source": [
    "2. The following table lists the sound level in decibels for several common noises."
   ]
  },
  {
   "cell_type": "markdown",
   "metadata": {},
   "source": [
    "| Noise         | Decibel level (dB) |\n",
    "| ------------- | ------------------ |\n",
    "| Jackhammer    |         131        |\n",
    "| Gas lawnmower |         107        |\n",
    "| Alarm clock   |          69        |\n",
    "| Quiet room    |          41        |"
   ]
  },
  {
   "cell_type": "markdown",
   "metadata": {},
   "source": [
    "Write a program that reads a sound level in decibels from the user. If the user enters a decibel level that matches one of the noises in the table then your program should display a message containing only that noise. If the user enters a number of decibels between the noises listed then your program should display a message indicating which noises the level is between. Ensure that your program also generates reasonable output for a value smaller than the quietest noise in the table, and for a value larger than the loudest noise in the table. <br><br>\n",
    "**Hints:**<br>\n",
    "    a. Remember to convert any numbers you read in with the \"input()\" function to an integer before using it in your \"if\" statements. Eg. myInt = int(input(\"Enter any Integer\"))<br>\n",
    "    b. You can test if the number stored in a variable is between two numbers by using the \"and\" command, as discussed before. Eg. (myInt > 2 and myInt < 6) will return true if myInt is both greater than 2 and less than 6.<br>\n",
    "    c.  You will need many elif statetements in the if statement for this problem. <br><br>\n",
    "  \n",
    "**1 point will be deductded for each of the 9 possible scenarios that is missing. Half point will be deducted for each typo in these 9 possible scenarios <br>**\n",
    "**2 points will be deducted if sound level is not read in and converted into an integer before being used in the if statement <br>** "
   ]
  },
  {
   "cell_type": "code",
   "execution_count": 78,
   "metadata": {},
   "outputs": [
    {
     "name": "stdout",
     "output_type": "stream",
     "text": [
      "Enter any integer: 100\n",
      "Louder than a Alarm Clock BUT Softer than a Gas Lawnmower\n"
     ]
    }
   ],
   "source": [
    "import numpy as np\n",
    "import pandas as pd\n",
    "gl = 'Gas Lawnmower'\n",
    "jh = 'Jackhammer'\n",
    "ac = 'Alarm Clock'\n",
    "qr = 'Quiet Room'\n",
    "lt = 'Louder than a '\n",
    "st = 'Softer than a '\n",
    "ala = 'As loud as a '\n",
    "\n",
    "decibels = int(input('Enter any integer: '))\n",
    "if (decibels == 131):\n",
    "    print(ala + jh)\n",
    "elif (decibels == 107):\n",
    "    print(ala + gl)\n",
    "elif (decibels == 69):\n",
    "    print(ala + ac)\n",
    "elif (decibels == 41):\n",
    "    print(qr)\n",
    "\n",
    "elif (decibels < 41):\n",
    "    print(st + qr)\n",
    "elif (decibels > 41) and (decibels < 69):\n",
    "    print(lt + qr + ' BUT ' + st + ac)\n",
    "elif (decibels > 69) and (decibels < 107):\n",
    "    print(lt + ac + ' BUT ' + st + gl)  \n",
    "elif (decibels > 107) and (decibels < 131):\n",
    "    print(lt + gl + ' BUT ' + st + jh)\n",
    "elif (decibels > 131):\n",
    "    print(lt + jh)\n"
   ]
  },
  {
   "cell_type": "markdown",
   "metadata": {},
   "source": [
    "3. The table below shows the current (2019/2020) College Football Rankings and the number of wins by each team. <br>\n",
    "    a. Create a pandas DataFrame that stores the information in this table and displays this. <br>\n",
    "    ** 5 points will be deducted if this is not attempted. 2 points will be deducted if it is wrong or there is a typo** <br><br>\n",
    "    b. Display (or print out) the mean, standard deviation and maximum of the number of wins given in this dataframe. <br>\n",
    "    ** 5 points will be deducted if this is not attempted. 2 points will be deducted if it is wrong or there is a typo** <br>\n"
   ]
  },
  {
   "cell_type": "markdown",
   "metadata": {},
   "source": [
    "| School       | Number of wins |\n",
    "| ------------ | -------------- |\n",
    "| LSU          |        15      |\n",
    "| Clemson      |        14      |\n",
    "| Ohio State   |        13      |\n",
    "| Georgia      |        12      | \n",
    "| Oregon       |        12      | "
   ]
  },
  {
   "cell_type": "code",
   "execution_count": 79,
   "metadata": {},
   "outputs": [
    {
     "data": {
      "text/html": [
       "<div>\n",
       "<style scoped>\n",
       "    .dataframe tbody tr th:only-of-type {\n",
       "        vertical-align: middle;\n",
       "    }\n",
       "\n",
       "    .dataframe tbody tr th {\n",
       "        vertical-align: top;\n",
       "    }\n",
       "\n",
       "    .dataframe thead th {\n",
       "        text-align: right;\n",
       "    }\n",
       "</style>\n",
       "<table border=\"1\" class=\"dataframe\">\n",
       "  <thead>\n",
       "    <tr style=\"text-align: right;\">\n",
       "      <th></th>\n",
       "      <th>School</th>\n",
       "      <th>Number of Wins</th>\n",
       "    </tr>\n",
       "  </thead>\n",
       "  <tbody>\n",
       "    <tr>\n",
       "      <th>0</th>\n",
       "      <td>LSU</td>\n",
       "      <td>15</td>\n",
       "    </tr>\n",
       "    <tr>\n",
       "      <th>1</th>\n",
       "      <td>Clemson</td>\n",
       "      <td>14</td>\n",
       "    </tr>\n",
       "    <tr>\n",
       "      <th>2</th>\n",
       "      <td>Ohio State</td>\n",
       "      <td>13</td>\n",
       "    </tr>\n",
       "    <tr>\n",
       "      <th>3</th>\n",
       "      <td>Georgia</td>\n",
       "      <td>12</td>\n",
       "    </tr>\n",
       "    <tr>\n",
       "      <th>4</th>\n",
       "      <td>Oregon</td>\n",
       "      <td>12</td>\n",
       "    </tr>\n",
       "  </tbody>\n",
       "</table>\n",
       "</div>"
      ],
      "text/plain": [
       "       School  Number of Wins\n",
       "0         LSU              15\n",
       "1     Clemson              14\n",
       "2  Ohio State              13\n",
       "3     Georgia              12\n",
       "4      Oregon              12"
      ]
     },
     "execution_count": 79,
     "metadata": {},
     "output_type": "execute_result"
    }
   ],
   "source": [
    "data = {'School':['LSU','Clemson','Ohio State','Georgia','Oregon'],\n",
    "       'Number of Wins':[15,14,13,12,12]}\n",
    "df = pd.DataFrame(data)\n",
    "df"
   ]
  },
  {
   "cell_type": "code",
   "execution_count": 80,
   "metadata": {},
   "outputs": [
    {
     "data": {
      "text/plain": [
       "<bound method NDFrame.describe of        School  Number of Wins\n",
       "0         LSU              15\n",
       "1     Clemson              14\n",
       "2  Ohio State              13\n",
       "3     Georgia              12\n",
       "4      Oregon              12>"
      ]
     },
     "execution_count": 80,
     "metadata": {},
     "output_type": "execute_result"
    }
   ],
   "source": [
    "df.describe"
   ]
  },
  {
   "cell_type": "markdown",
   "metadata": {},
   "source": [
    "# Extra Credit (10%)\n",
    "**Attempt Problem 5 below for 10% extra credit**"
   ]
  },
  {
   "cell_type": "markdown",
   "metadata": {},
   "source": [
    "5. Write a program that generates 12 random integers between 0 and 100, and then prints the largest even number that was entered. If no even number was entered it should print a message to that effect. <br>\n",
    "Hints: <br>\n",
    "    a. Use pseudo-code. <br>\n",
    "    b. Generate a random number using the code below:<br>\n",
    "    myRandInt = np.random.randint(low=0, high=100, size=12)<br>\n",
    "    c. Initialize an empty list to contain the odd numbers. Name this list oddInt <br>\n",
    "    d. Within your for loop, you can append odd numbers to this empty list using the append function. eg: <br>\n",
    "    oddInt.append(\"The current odd number from the list should be put in here!\") <br>\n",
    "**Your code has to work perfectly to get this bonus 10%**    "
   ]
  },
  {
   "cell_type": "code",
   "execution_count": 76,
   "metadata": {},
   "outputs": [
    {
     "name": "stdout",
     "output_type": "stream",
     "text": [
      "[65  2  6 19 64 67 54 94 35  9 32 38]\n",
      "[65, 19, 67, 35, 9]\n",
      "[2, 6, 64, 54, 94, 32, 38]\n",
      "[94]\n"
     ]
    }
   ],
   "source": [
    "myRandInt = np.random.randint(low=0, high=100, size=12)\n",
    "print(myRandInt)\n",
    "oddInt=[]\n",
    "evenInt=[]\n",
    "for x in myRandInt:\n",
    "    if (x % 2) == 0:\n",
    "        evenInt.append(x)\n",
    "    else:\n",
    "        oddInt.append(x)\n",
    "print(oddInt)\n",
    "print(evenInt)\n",
    "maxeven=[max(evenInt)]\n",
    "print(maxeven)\n",
    "if len(maxeven)==0:\n",
    "    print(\"There was no even number entered\")"
   ]
  },
  {
   "cell_type": "code",
   "execution_count": null,
   "metadata": {},
   "outputs": [],
   "source": []
  }
 ],
 "metadata": {
  "colab": {
   "collapsed_sections": [
    "sYQs3O-6dHFb",
    "8sIJ4A57dHFk",
    "_73RPOcBdHFn",
    "h9s2tfPcdHFo",
    "zt4YHVYPdHGR"
   ],
   "include_colab_link": true,
   "name": "Copy of intro-python-colab.ipynb",
   "provenance": [],
   "version": "0.3.2"
  },
  "kernelspec": {
   "display_name": "Python 3",
   "language": "python",
   "name": "python3"
  },
  "language_info": {
   "codemirror_mode": {
    "name": "ipython",
    "version": 3
   },
   "file_extension": ".py",
   "mimetype": "text/x-python",
   "name": "python",
   "nbconvert_exporter": "python",
   "pygments_lexer": "ipython3",
   "version": "3.8.8"
  }
 },
 "nbformat": 4,
 "nbformat_minor": 1
}
